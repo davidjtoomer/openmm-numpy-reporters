{
 "cells": [
  {
   "cell_type": "markdown",
   "metadata": {},
   "source": [
    "# Imports"
   ]
  },
  {
   "cell_type": "code",
   "execution_count": 1,
   "metadata": {},
   "outputs": [],
   "source": [
    "import sys\n",
    "sys.path.append('..')"
   ]
  },
  {
   "cell_type": "code",
   "execution_count": 2,
   "metadata": {},
   "outputs": [],
   "source": [
    "from openmm import LangevinMiddleIntegrator\n",
    "from openmm.app import AmberInpcrdFile, AmberPrmtopFile, PDBReporter, Simulation\n",
    "from openmm.unit import kelvin, picoseconds\n",
    "from openmm_numpy_reporters import ForceReporter, PositionReporter, PotentialEnergyReporter"
   ]
  },
  {
   "cell_type": "markdown",
   "metadata": {},
   "source": [
    "# Simulation Parameters"
   ]
  },
  {
   "cell_type": "code",
   "execution_count": 3,
   "metadata": {},
   "outputs": [],
   "source": [
    "TEMPERATURE = 300.0 * kelvin\n",
    "FRICTION = 1 / picoseconds\n",
    "INTEGRATION_TIME_STEP = 0.002 * picoseconds\n",
    "SAVE_INTERVAL = 100\n",
    "SIMULATION_STEPS = 1000 # 2ps simulation"
   ]
  },
  {
   "cell_type": "markdown",
   "metadata": {},
   "source": [
    "# Running the Simulation"
   ]
  },
  {
   "cell_type": "code",
   "execution_count": 4,
   "metadata": {},
   "outputs": [],
   "source": [
    "prmtop = AmberPrmtopFile('../data/adp/adp.prmtop')\n",
    "\n",
    "system = prmtop.createSystem(\n",
    "    implicitSolvent=None,\n",
    "    constraints=None,\n",
    "    nonbondedCutoff=None,\n",
    "    hydrogenMass=None\n",
    ")\n",
    "\n",
    "inpcrd = AmberInpcrdFile('../data/adp/adp.crd')\n",
    "\n",
    "integrator = LangevinMiddleIntegrator(TEMPERATURE, FRICTION, INTEGRATION_TIME_STEP)"
   ]
  },
  {
   "cell_type": "code",
   "execution_count": 5,
   "metadata": {},
   "outputs": [],
   "source": [
    "simulation = Simulation(prmtop.topology, system, integrator)\n",
    "simulation.context.setPositions(inpcrd.getPositions(asNumpy=True))\n",
    "simulation.minimizeEnergy()\n",
    "simulation.context.setVelocitiesToTemperature(TEMPERATURE)\n"
   ]
  },
  {
   "cell_type": "markdown",
   "metadata": {},
   "source": [
    "Add a PDB reporter and the custom, appendable reporters to the Simulation."
   ]
  },
  {
   "cell_type": "code",
   "execution_count": 6,
   "metadata": {},
   "outputs": [],
   "source": [
    "simulation.reporters.append(PDBReporter('adp_simulation.pdb', SAVE_INTERVAL))\n",
    "simulation.reporters.append(PositionReporter('positions.npy', SAVE_INTERVAL))\n",
    "simulation.reporters.append(ForceReporter('forces.npy', SAVE_INTERVAL))\n",
    "simulation.reporters.append(PotentialEnergyReporter('potential_energies.npy', SAVE_INTERVAL))"
   ]
  },
  {
   "cell_type": "markdown",
   "metadata": {},
   "source": [
    "Run the simulation."
   ]
  },
  {
   "cell_type": "code",
   "execution_count": 7,
   "metadata": {},
   "outputs": [],
   "source": [
    "simulation.step(SIMULATION_STEPS)"
   ]
  }
 ],
 "metadata": {
  "kernelspec": {
   "display_name": "Python 3.9.12 ('openmm-numpy-reporters')",
   "language": "python",
   "name": "python3"
  },
  "language_info": {
   "codemirror_mode": {
    "name": "ipython",
    "version": 3
   },
   "file_extension": ".py",
   "mimetype": "text/x-python",
   "name": "python",
   "nbconvert_exporter": "python",
   "pygments_lexer": "ipython3",
   "version": "3.9.12"
  },
  "orig_nbformat": 4,
  "vscode": {
   "interpreter": {
    "hash": "2c6ae6afd6b5e157146929e8ee0261a89d88f48b6c523091e0016973f9c0af70"
   }
  }
 },
 "nbformat": 4,
 "nbformat_minor": 2
}
